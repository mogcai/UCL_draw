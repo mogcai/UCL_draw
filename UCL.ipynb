{
 "cells": [
  {
   "cell_type": "code",
   "execution_count": 2,
   "metadata": {},
   "outputs": [],
   "source": [
    "import pandas as pd\n",
    "import requests\n",
    "import random"
   ]
  },
  {
   "cell_type": "code",
   "execution_count": 3,
   "metadata": {},
   "outputs": [
    {
     "data": {
      "text/plain": [
       "<Response [200]>"
      ]
     },
     "execution_count": 3,
     "metadata": {},
     "output_type": "execute_result"
    }
   ],
   "source": [
    "url='https://fsp-draw-service.uefa.com/v1/draws?drawId=ecd5e41e-a90c-481d-b7f6-6706be7900c5&optionalFields=TEAMS'\n",
    "\n",
    "def read_url(url):\n",
    "    headers = {'User-Agent': 'Mozilla/5.0 (Macintosh; Intel Mac OS X 10_10_1) AppleWebKit/537.36 (KHTML, like Gecko) Chrome/39.0.2171.95 Safari/537.36'}\n",
    "    r=requests.get(url, headers=headers)\n",
    "    # r.encoding = 'utf-8' \n",
    "    if r.ok:\n",
    "        return r\n",
    "    \n",
    "data=read_url(url)\n",
    "data"
   ]
  },
  {
   "cell_type": "code",
   "execution_count": 4,
   "metadata": {},
   "outputs": [],
   "source": [
    "# Team info\n",
    "dict_team={}\n",
    "dict_team={team['teams'][0]['id']: \n",
    "           {\n",
    "            'teamCode': team['teams'][0]['teamCode'], \n",
    "            'name': team['teams'][0]['internationalName']\n",
    "            }\n",
    "           for team in data.json()[0]['rounds'][-1]['result']['groups'][-1]['teamSlots']}\n",
    "\n",
    "# pot info\n",
    "dict_pots={pot['description']: pot['teamIds'] for pot in data.json()[0]['rounds'][0]['pots']}\n",
    "\n",
    "# match by team\n",
    "dict_match={}\n",
    "for team in data.json()[0]['rounds'][0]['result']['groups'][0]['teamSlots']:\n",
    "    dict_match[team['teamIds'][0]]=[{'opponent': i['teamId'], 'location': i['location']}\n",
    "                     for i in team['opponents']]\n",
    "    \n",
    "# list of total match (first is home team, second is away team)\n",
    "lst_match=[]\n",
    "for team, opponents in dict_match.items():\n",
    "    for opponent in opponents:\n",
    "        if opponent['location']=='HOME':\n",
    "            home=team\n",
    "            away=opponent['opponent']\n",
    "        else:\n",
    "            away=team\n",
    "            home=opponent['opponent']\n",
    "        lst_match.append((home, away))\n",
    "lst_match=list(dict.fromkeys(lst_match))"
   ]
  },
  {
   "cell_type": "code",
   "execution_count": 78,
   "metadata": {},
   "outputs": [
    {
     "name": "stdout",
     "output_type": "stream",
     "text": [
      "{'teamCode': 'BAY', 'name': 'Bayern München'} {'teamCode': 'SLB', 'name': 'S. Bratislava'}\n",
      "0.875 0.5833333333333334 0.08333333333333331\n"
     ]
    },
    {
     "data": {
      "text/plain": [
       "(3, 0)"
      ]
     },
     "execution_count": 78,
     "metadata": {},
     "output_type": "execute_result"
    }
   ],
   "source": [
    "\n",
    "def math_result(home_team, away_team):\n",
    "    home_pot=[key for key, value in dict_pots.items() if home_team in value][0]\n",
    "    away_pot=[key for key, value in dict_pots.items() if away_team in value][0]\n",
    "    dict_ability={'pot 1': 6, 'pot 2': 5, 'pot 3': 4, 'pot 4': 3}\n",
    "\n",
    "    rate=random.random()\n",
    "    home_ability=dict_ability[home_pot]\n",
    "    away_ability=dict_ability[away_pot]\n",
    "    base_rate=home_ability/(home_ability+away_ability)\n",
    "    if base_rate<0.5:\n",
    "        home_win_rate=base_rate*(1-1/3)\n",
    "        away_win_rate=1-home_win_rate-(1/3)\n",
    "    else:\n",
    "        away_win_rate=(1-base_rate)*(1-1/3)\n",
    "        home_win_rate=1-away_win_rate-(1/3)\n",
    "    if rate<=min(home_win_rate, away_win_rate):\n",
    "        if home_win_rate<away_win_rate:\n",
    "            result=(3, 0)\n",
    "        else:\n",
    "            result=(0, 3)\n",
    "    elif rate<=max(home_win_rate, away_win_rate):\n",
    "        result=(1, 1)\n",
    "    else:\n",
    "        if home_win_rate<away_win_rate:\n",
    "            result=(0, 3)\n",
    "        else:\n",
    "            result=(3, 0)\n",
    "    return result\n",
    "\n",
    "\n",
    "home_team='50037'\n",
    "away_team='52797'\n",
    "home_pot=[key for key, value in dict_pots.items() if home_team in value][0]\n",
    "away_pot=[key for key, value in dict_pots.items() if away_team in value][0]\n",
    "dict_ability={'pot 1': 7, 'pot 2': 5, 'pot 3': 3, 'pot 4': 1}\n",
    "\n",
    "home_ability=dict_ability[home_pot]\n",
    "away_ability=dict_ability[away_pot]\n",
    "base_rate=home_ability/(home_ability+away_ability)\n",
    "home_win_rate=base_rate*(1-1/3)\n",
    "away_win_rate=1-home_win_rate-(1/3)\n",
    "print(dict_team[home_team], dict_team[away_team])\n",
    "print(base_rate, home_win_rate, away_win_rate)\n",
    "\n",
    "math_result(home_team, away_team)\n"
   ]
  },
  {
   "cell_type": "code",
   "execution_count": 76,
   "metadata": {},
   "outputs": [
    {
     "name": "stdout",
     "output_type": "stream",
     "text": [
      "('52797', '52919') S. Bratislava Man City (1, 1)\n",
      "('52797', '50058') S. Bratislava Milan (0, 3)\n",
      "('52797', '50164') S. Bratislava GNK Dinamo (3, 0)\n",
      "('52797', '50107') S. Bratislava Stuttgart (3, 0)\n",
      "('50037', '52797') Bayern München S. Bratislava (0, 3)\n",
      "('50124', '52797') Atleti S. Bratislava (0, 3)\n",
      "('50050', '52797') Celtic S. Bratislava (0, 3)\n",
      "('2602798', '52797') Girona S. Bratislava (0, 3)\n"
     ]
    }
   ],
   "source": [
    "for teams, points in zip(lst_match, lst_result):\n",
    "    if '52797' in teams:\n",
    "        print(teams, dict_team[teams[0]]['name'], dict_team[teams[1]]['name'], points)"
   ]
  },
  {
   "cell_type": "code",
   "execution_count": 82,
   "metadata": {},
   "outputs": [],
   "source": [
    "def simulate_result():\n",
    "    lst_result=[]\n",
    "    for match in lst_match:\n",
    "        home_team=match[0]\n",
    "        away_team=match[1]\n",
    "        lst_result.append(math_result(home_team, away_team))\n",
    "\n",
    "    # initialize dict_table\n",
    "    dict_table={team: 0 for team in dict_team.keys()}\n",
    "\n",
    "    for teams, points in zip(lst_match, lst_result):\n",
    "        dict_table[teams[0]]=dict_table[teams[0]]+points[0]\n",
    "        dict_table[teams[1]]=dict_table[teams[1]]+points[1]\n",
    "\n",
    "    df=pd.DataFrame(dict_table, index=['result']).transpose()\n",
    "    df=df.sort_values('result', ascending=False)\n",
    "    df=df.reset_index()\n",
    "    df['Name']=df['index'].apply(lambda i: dict_team[i]['name'])\n",
    "    return df\n"
   ]
  },
  {
   "cell_type": "code",
   "execution_count": 89,
   "metadata": {},
   "outputs": [
    {
     "name": "stdout",
     "output_type": "stream",
     "text": [
      "8    14\n",
      "Name: result, dtype: int64\n",
      "17    12\n",
      "Name: result, dtype: int64\n",
      "2    18\n",
      "Name: result, dtype: int64\n",
      "11    15\n",
      "Name: result, dtype: int64\n",
      "21    10\n",
      "Name: result, dtype: int64\n",
      "7    14\n",
      "Name: result, dtype: int64\n",
      "30    7\n",
      "Name: result, dtype: int64\n",
      "17    12\n",
      "Name: result, dtype: int64\n",
      "34    6\n",
      "Name: result, dtype: int64\n",
      "24    10\n",
      "Name: result, dtype: int64\n"
     ]
    }
   ],
   "source": [
    "for i in range(10):\n",
    "    df_result=simulate_result()\n",
    "    print(df_result[df_result['Name']=='Liverpool']['result'])"
   ]
  },
  {
   "cell_type": "code",
   "execution_count": null,
   "metadata": {},
   "outputs": [],
   "source": []
  }
 ],
 "metadata": {
  "kernelspec": {
   "display_name": ".venv",
   "language": "python",
   "name": "python3"
  },
  "language_info": {
   "codemirror_mode": {
    "name": "ipython",
    "version": 3
   },
   "file_extension": ".py",
   "mimetype": "text/x-python",
   "name": "python",
   "nbconvert_exporter": "python",
   "pygments_lexer": "ipython3",
   "version": "3.10.11"
  }
 },
 "nbformat": 4,
 "nbformat_minor": 2
}
